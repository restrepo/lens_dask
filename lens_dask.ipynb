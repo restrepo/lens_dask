{
  "nbformat": 4,
  "nbformat_minor": 0,
  "metadata": {
    "colab": {
      "name": "lens_dask.ipynb",
      "version": "0.3.2",
      "provenance": [],
      "toc_visible": true,
      "include_colab_link": true
    },
    "language_info": {
      "codemirror_mode": {
        "name": "ipython",
        "version": 3
      },
      "file_extension": ".py",
      "mimetype": "text/x-python",
      "name": "python",
      "nbconvert_exporter": "python",
      "pygments_lexer": "ipython3",
      "version": "3.5.3"
    },
    "kernelspec": {
      "display_name": "Python 3",
      "language": "python",
      "name": "python3"
    }
  },
  "cells": [
    {
      "cell_type": "markdown",
      "metadata": {
        "id": "view-in-github",
        "colab_type": "text"
      },
      "source": [
        "<a href=\"https://colab.research.google.com/github/restrepo/lens_dask/blob/master/lens_dask.ipynb\" target=\"_parent\"><img src=\"https://colab.research.google.com/assets/colab-badge.svg\" alt=\"Open In Colab\"/></a>"
      ]
    },
    {
      "cell_type": "markdown",
      "metadata": {
        "id": "VXdB2A-OVRSl",
        "colab_type": "text"
      },
      "source": [
        "# Lens Dask"
      ]
    },
    {
      "cell_type": "markdown",
      "metadata": {
        "id": "rrkDF1fqVRSn",
        "colab_type": "text"
      },
      "source": [
        "## Convert lens json to dask json"
      ]
    },
    {
      "cell_type": "code",
      "metadata": {
        "id": "4w_qpgNLVZ-S",
        "colab_type": "code",
        "colab": {
          "base_uri": "https://localhost:8080/",
          "height": 55
        },
        "outputId": "c906a1cf-3914-4053-a3cd-cb8f66add10e"
      },
      "source": [
        "import os\n",
        "VERSION='NEW'\n",
        "if os.getcwd()=='/content':\n",
        "    from google.colab import drive\n",
        "    drive.mount('/content/drive')\n",
        "    os.chdir( \"drive/My Drive/Lens/LAT\" )"
      ],
      "execution_count": 6,
      "outputs": [
        {
          "output_type": "stream",
          "text": [
            "Drive already mounted at /content/drive; to attempt to forcibly remount, call drive.mount(\"/content/drive\", force_remount=True).\n"
          ],
          "name": "stdout"
        }
      ]
    },
    {
      "cell_type": "code",
      "metadata": {
        "id": "F4AV8RszVneE",
        "colab_type": "code",
        "colab": {}
      },
      "source": [
        "# Run this cell to mount your Google Drive.\n"
      ],
      "execution_count": 0,
      "outputs": []
    },
    {
      "cell_type": "code",
      "metadata": {
        "id": "qKFO1ATfVRSn",
        "colab_type": "code",
        "colab": {}
      },
      "source": [
        "import pandas as pd"
      ],
      "execution_count": 0,
      "outputs": []
    },
    {
      "cell_type": "code",
      "metadata": {
        "id": "g52hctPDVRSq",
        "colab_type": "code",
        "colab": {}
      },
      "source": [
        "import os\n",
        "import re"
      ],
      "execution_count": 0,
      "outputs": []
    },
    {
      "cell_type": "code",
      "metadata": {
        "id": "uQuM5qcuVRSr",
        "colab_type": "code",
        "colab": {}
      },
      "source": [
        "jz=os.listdir('data')"
      ],
      "execution_count": 0,
      "outputs": []
    },
    {
      "cell_type": "code",
      "metadata": {
        "id": "yAKJwe1CVRSt",
        "colab_type": "code",
        "colab": {}
      },
      "source": [
        "jz=[j for j in jz if j.find('json.gz')>-1]"
      ],
      "execution_count": 0,
      "outputs": []
    },
    {
      "cell_type": "code",
      "metadata": {
        "id": "T73Y68z1VRSv",
        "colab_type": "code",
        "colab": {
          "base_uri": "https://localhost:8080/",
          "height": 35
        },
        "outputId": "70013afa-2bd8-4478-b540-65b37aef403b"
      },
      "source": [
        "jz"
      ],
      "execution_count": 12,
      "outputs": [
        {
          "output_type": "execute_result",
          "data": {
            "text/plain": [
              "[]"
            ]
          },
          "metadata": {
            "tags": []
          },
          "execution_count": 12
        }
      ]
    },
    {
      "cell_type": "code",
      "metadata": {
        "id": "ZztHv8A8VRSy",
        "colab_type": "code",
        "colab": {}
      },
      "source": [
        "for j in jz:\n",
        "    ln=pd.read_json('data/'+j,compression='gzip')\n",
        "    ln.to_json('data/'+j.split('.gz')[0],lines=True,orient='records')"
      ],
      "execution_count": 0,
      "outputs": []
    },
    {
      "cell_type": "markdown",
      "metadata": {
        "id": "BDIRsoYFVRS0",
        "colab_type": "text"
      },
      "source": [
        "See https://towardsdatascience.com/speeding-up-your-algorithms-part-4-dask-7c6ed79994ef"
      ]
    },
    {
      "cell_type": "markdown",
      "metadata": {
        "id": "_ChWdwd5VRS0",
        "colab_type": "text"
      },
      "source": [
        "## Load as dask dataframes "
      ]
    },
    {
      "cell_type": "markdown",
      "metadata": {
        "id": "WS0xpsWEVRS1",
        "colab_type": "text"
      },
      "source": [
        "Pick the good ones"
      ]
    },
    {
      "cell_type": "code",
      "metadata": {
        "id": "EY5K0UM4VRS1",
        "colab_type": "code",
        "colab": {}
      },
      "source": [
        "import dask.dataframe as dd\n",
        "import os\n",
        "import re"
      ],
      "execution_count": 0,
      "outputs": []
    },
    {
      "cell_type": "code",
      "metadata": {
        "id": "4sLkQhZIXT0c",
        "colab_type": "code",
        "colab": {}
      },
      "source": [
        ""
      ],
      "execution_count": 0,
      "outputs": []
    },
    {
      "cell_type": "code",
      "metadata": {
        "id": "xG0Q8N2QW8GN",
        "colab_type": "code",
        "colab": {}
      },
      "source": [
        "# must end with \"/\"\n",
        "data_dir='data/'\n",
        "if re.search('^/content',os.getcwd() ):\n",
        "    data_dir='lines_True_orient_records/'"
      ],
      "execution_count": 0,
      "outputs": []
    },
    {
      "cell_type": "code",
      "metadata": {
        "id": "Y4VpoPoQVRS3",
        "colab_type": "code",
        "colab": {}
      },
      "source": [
        "jz=os.listdir(data_dir)"
      ],
      "execution_count": 0,
      "outputs": []
    },
    {
      "cell_type": "code",
      "metadata": {
        "id": "gowrZI4vVRS5",
        "colab_type": "code",
        "colab": {}
      },
      "source": [
        "jz=sorted( [j for j in jz if re.search('^lens_lat_.*json$',j)] )"
      ],
      "execution_count": 0,
      "outputs": []
    },
    {
      "cell_type": "code",
      "metadata": {
        "id": "kOgDc3J9VRS7",
        "colab_type": "code",
        "colab": {}
      },
      "source": [
        "good=[]\n",
        "EXTRACT_GOOD=False\n",
        "if EXTRACT_GOOD:\n",
        "    ln=dd.read_json(data_dir+jz[0],blocksize=50e6)\n",
        "    for j in range(len(jz)):\n",
        "        tmp=dd.read_json(data_dir+jz[j],blocksize=50e6)\n",
        "        try:\n",
        "            kk=tmp.compute().shape[0]\n",
        "            good.append(j)\n",
        "            ln=ln.append( dd.read_json(data_dir+jz[j],blocksize=50e6)  )\n",
        "        except:\n",
        "            pass"
      ],
      "execution_count": 0,
      "outputs": []
    },
    {
      "cell_type": "markdown",
      "metadata": {
        "id": "_K7b2HUZVRS9",
        "colab_type": "text"
      },
      "source": [
        "test dask tasks with good dataframes"
      ]
    },
    {
      "cell_type": "code",
      "metadata": {
        "id": "4U8ixQrdVRS-",
        "colab_type": "code",
        "colab": {}
      },
      "source": [
        "if good:\n",
        "    print(good)"
      ],
      "execution_count": 0,
      "outputs": []
    },
    {
      "cell_type": "code",
      "metadata": {
        "id": "Hcpw7-TaVRS_",
        "colab_type": "code",
        "colab": {}
      },
      "source": [
        "good=range(47)#[2, 3, 4, 5, 9, 10, 11, 12, 14, 15, 17, 20, 23, 26, 37, 42, 43, 45, 46, 47]"
      ],
      "execution_count": 0,
      "outputs": []
    },
    {
      "cell_type": "code",
      "metadata": {
        "id": "MoZyF2v1VRTB",
        "colab_type": "code",
        "colab": {
          "base_uri": "https://localhost:8080/",
          "height": 35
        },
        "outputId": "fa48b43b-6b39-42df-80db-266926276f3b"
      },
      "source": [
        "len(good)"
      ],
      "execution_count": 67,
      "outputs": [
        {
          "output_type": "execute_result",
          "data": {
            "text/plain": [
              "47"
            ]
          },
          "metadata": {
            "tags": []
          },
          "execution_count": 67
        }
      ]
    },
    {
      "cell_type": "code",
      "metadata": {
        "id": "sf2JUhAYVRTD",
        "colab_type": "code",
        "colab": {}
      },
      "source": [
        "ln=dd.read_json(data_dir+jz[good[0]],blocksize=50e6)\n",
        "\n",
        "for i in range( 20 ):\n",
        "    ln=ln.append( dd.read_json(data_dir+jz[good[i]],blocksize=50e6)  )"
      ],
      "execution_count": 0,
      "outputs": []
    },
    {
      "cell_type": "code",
      "metadata": {
        "id": "t4f62qYpVRTE",
        "colab_type": "code",
        "colab": {}
      },
      "source": [
        "ln.journal.compute().shape"
      ],
      "execution_count": 0,
      "outputs": []
    },
    {
      "cell_type": "markdown",
      "metadata": {
        "id": "ww-jyKsNVRTG",
        "colab_type": "text"
      },
      "source": [
        "for j in jz[1:]:\n",
        "    ln=ln.append( dd.read_json('data/'+j ,blocksize=50e6) )"
      ]
    },
    {
      "cell_type": "markdown",
      "metadata": {
        "id": "_AHq7IP0VRTH",
        "colab_type": "text"
      },
      "source": [
        "## Find the dask bug"
      ]
    },
    {
      "cell_type": "code",
      "metadata": {
        "id": "KhsElXzOVRTH",
        "colab_type": "code",
        "colab": {}
      },
      "source": [
        "kk=ln[ln.authors.astype(str).str.contains('University of Antioquia')].reset_index(drop=True)"
      ],
      "execution_count": 0,
      "outputs": []
    },
    {
      "cell_type": "code",
      "metadata": {
        "id": "OtzFfX0aVRTI",
        "colab_type": "code",
        "colab": {}
      },
      "source": [
        "kk.compute()"
      ],
      "execution_count": 0,
      "outputs": []
    },
    {
      "cell_type": "markdown",
      "metadata": {
        "id": "Mv-UldimVRTL",
        "colab_type": "text"
      },
      "source": [
        "Bad"
      ]
    },
    {
      "cell_type": "code",
      "metadata": {
        "id": "lKsIOD66VRTM",
        "colab_type": "code",
        "colab": {}
      },
      "source": [
        "import pandas as pd"
      ],
      "execution_count": 0,
      "outputs": []
    },
    {
      "cell_type": "code",
      "metadata": {
        "id": "5ZwgKXVrVRTP",
        "colab_type": "code",
        "colab": {},
        "outputId": "fe30dcca-2f50-4ff0-cd8b-40e1afe44408"
      },
      "source": [
        "%%writefile drive.cfg\n",
        "[FILES]\n",
        "UDEA_authors_with_WOS_info.json       =1o1eVT4JD0FMMICq_oxrTJOzWh47veBMw\n",
        "WOS_SCI_SCP_PTJ_CTR.json.gz           =19E1C1kRk4I0V3uXojqko8-NEicWaPp1j\n",
        "lens_lat_2019-04-01_2019-06-30.json.gz=11IM--JWIrFq6s2Bn-lNKtTAWm_XANAGx\n",
        "lens_lat_2018-12-01_2019-03-31.json.gz=11D_TH-Jp95qcjf_5oLMiyZXto98eXFZv\n",
        "lens_lat_2018-09-01_2018-11-30.json.gz=11CjOQb_qaz_Igg_BouNP1bayKvjMmfLM\n",
        "lens_lat_2018-06-01_2018-08-31.json.gz=1191l19-rBlXWyV1FpkeGS60aMGGEhlY1\n",
        "lens_lat_2018-02-01_2018-05-31.json.gz=117XflAqxJOtSqbNRuAD7qvdXKcq9sWV9\n",
        "lens_lat_2017-12-01_2018-01-31.json.gz=11-gmcyfHjtZOhPSEzQGkgDBZO8NmWoUE\n",
        "lens_lat_2017-06-01_2017-08-31.json.gz=11-JllgMrMw3_3zBH1rgGwxai97tjiobt\n",
        "lens_lat_2017-02-01_2017-05-31.json.gz=10nQKCGer00evOusselh272ArLFEkdCDT\n",
        "lens_lat_2016-12-01_2017-01-31.json.gz=10m_Fo6aDbjhN5cXpFHj73FXSghpn4OQ3\n",
        "lens_lat_2016-09-01_2016-11-30.json.gz=10kbscWWxVDJbeuotDUU7e9IHRAiS59lO\n",
        "lens_lat_2016-06-01_2016-08-31.json.gz=10hOv4cFEdE-8oC3310CTp0A0_SN-H5Qt\n",
        "lens_lat_2016-03-01_2016-05-31.json.gz=10gIrPWa5OBMxjm_rLQ_jQ2Gu_M6-zGgD\n",
        "lens_lat_2016-01-01_2016-02-29.json.gz=10dSIx1s-im-3ZYlmXgBCbhdUmC8BOzid\n",
        "lens_lat_2015-11-01_2015-12-31.json.gz=10cWT0BDn2IlD9zBRflTxIOTdIcqZS-B4\n",
        "lens_lat_2015-07-01_2015-10-31.json.gz=10ahPuzX2y70vtXqO9xLHkkeg7F5EOHnM\n",
        "lens_lat_2015-03-01_2015-06-30.json.gz=10VtXIUJ3XOE7VyA9QCLL2H3yGP0DnaFw\n",
        "lens_lat_2015-01-01_2015-02-28.json.gz=10TZfHu0fTlWLfopa-sq66Suzh35_2mkp\n",
        "lens_lat_2014-11-01_2014-12-31.json.gz=10T5eHtSB9Gbmz5Ihtbj-xry8KxkVI3i5\n",
        "lens_lat_2014-07-01_2014-10-31.json.gz=10O5EpnCR5Pn0WV-J8rIG46xP34bwUYyg\n",
        "lens_lat_2014-03-01_2014-06-30.json.gz=10Di2UcHTlfsgYPfpzKHTgWgXQibSznTg\n",
        "lens_lat_2014-01-01_2014-02-28.json.gz=1092RZhn-0oXve98bAecVULaHJmg9_2q5\n",
        "lens_lat_2013-09-01_2013-12-31.json.gz=107cplrrWFZr__ysGQvmIIn2GoA43QEi7\n",
        "lens_lat_2013-04-01_2013-08-31.json.gz=105B136Ysg9heeoOXpAwH9nSq8jsXZE4a\n",
        "lens_lat_2012-09-01_2012-12-31.json.gz=104vZDKbZj1qXbnj-kwfN44y3OtyW-RFC\n",
        "lens_lat_2012-04-01_2012-08-31.json.gz=101yBZSsTbiTo1vsma9TSU5XP8ugIFJip\n",
        "lens_lat_2012-01-01_2012-03-31.json.gz=100Syzm4xJ9MC1SX2poTRXJjlbDyOoXSU\n",
        "lens_lat_2011-09-01_2011-12-31.json.gz=10-lPswtacMlE98LN97eB4AbFJpWfpn63\n",
        "lens_lat_2011-03-01_2011-08-31.json.gz=10-Tv-ULF0cgZoYyEMWoKKU4SoybYF5vl\n",
        "lens_lat_2010-12-01_2011-02-28.json.gz=1-z7OftzGVh1tJyxK0M7d8icaJ4ERXuN1\n",
        "lens_lat_2010-05-30_2010-11-30.json.gz=1-vIwF0yf4QlLbuhUapGgC-mIAe_uKmiW\n",
        "lens_lat_2010-01-01_2010-04-30.json.gz=1-vFxXE2PZ4E1OJFr0EdE9H00IciUqq5I\n",
        "lens_lat_2009-06-01_2009-12-31.json.gz=1-qgY9IVh2rzHFVxuD_YjQ0FHeDFcZbJo\n",
        "lens_lat_2009-01-01_2009-05-31.json.gz=1-gl1tiVLNjiKQvZRqp7JVVzTZhH8oSvL\n",
        "lens_lat_2008-06-01_2008-12-31.json.gz=1-dd6RoLePalsrxcVP9VGW1jwcmxhKJ1J\n",
        "lens_lat_2008-01-01_2008-05-31.json.gz=1-ayRWDL8qkmZ2-MGDL7N-PDgkTNrfFih\n",
        "lens_lat_2007-03-31_2007-12-31.json.gz=1-WMrYIl5GwP84UIacFD5z4tnyGyKDpAI\n",
        "lens_lat_2006-08-01_2007-02-28.json.gz=1-WLO9AqMvNhrJ0WpkwNk8yXtEasNHdEj\n",
        "lens_lat_2005-12-01_2006-07-31.json.gz=1-Vgr695qvfp7Kp8ED_DrQduPAJKuOxR_\n",
        "lens_lat_2005-01-01_2005-11-30.json.gz=1-PLDU4UJziErzwaUHrrN3qF4QBymlP89\n",
        "lens_lat_2004-01-01_2004-12-31.json.gz=1-MaQqD_OTNwIDWpgexqzwL2UGwHoOqfa\n",
        "lens_lat_2003-01-01_2003-12-31.json.gz=1-G9SSaBb4FZeyvrZ7udemctcIrKdhyVm\n",
        "lens_lat_2002-01-01_2002-12-32.json.gz=1-DGJTJzzgi4wyJwZkw0SHKOJ9LScD-Xo\n",
        "lens_lat_2000-03-31_2001-12-31.json.gz=1-8cKkHJLofb8RpRdillKnVNDShrUqu-l\n",
        "lens_lat_1998-05-31_2000-03-31.json.gz=1-8UrsABcPc2q2mLUhQtlq6RqThvGWzeV\n",
        "lens_lat_1995-12-01_1998-05-31.json.gz=1-3UxBNSwM8D-ZKDpAN0Rya3Zdzjpxg3j\n",
        "lens_lat_1991-02-01_1995-11-30.json.gz=180CBTphUQVwFIrfU3eW4kqd1F9q8R5XU\n",
        "lens_lat_1984-01-01_1991-01-31.json.gz=11QhtKYIR8hXlEBBfdIVcvxPyC5tQrzAp\n",
        "lens_lat_1900-01-01_1983-12-31.json.gz=11PnX2Z71bCJahtv-5uOaelAorkQMGe7l"
      ],
      "execution_count": 0,
      "outputs": [
        {
          "output_type": "stream",
          "text": [
            "Overwriting drive.cfg\n"
          ],
          "name": "stdout"
        }
      ]
    },
    {
      "cell_type": "code",
      "metadata": {
        "id": "SsoWiJHxVRTR",
        "colab_type": "code",
        "colab": {}
      },
      "source": [
        "import wosplus as wp"
      ],
      "execution_count": 0,
      "outputs": []
    },
    {
      "cell_type": "code",
      "metadata": {
        "id": "jnBJA7g-VRTT",
        "colab_type": "code",
        "colab": {}
      },
      "source": [
        "df=wp.wosplus('drive.cfg')"
      ],
      "execution_count": 0,
      "outputs": []
    },
    {
      "cell_type": "code",
      "metadata": {
        "id": "K1uAFy8tVRTV",
        "colab_type": "code",
        "colab": {}
      },
      "source": [
        "j=44\n",
        "ln=df.read_drive_json(jz[j]+'.gz',compression='gzip')#,encoding='latin1')"
      ],
      "execution_count": 0,
      "outputs": []
    },
    {
      "cell_type": "code",
      "metadata": {
        "id": "ces5ogXuVRTY",
        "colab_type": "code",
        "colab": {}
      },
      "source": [
        "ln.to_json('kk.json',lines=True,orient='records')"
      ],
      "execution_count": 0,
      "outputs": []
    },
    {
      "cell_type": "code",
      "metadata": {
        "id": "uIj5rrDuVRTZ",
        "colab_type": "code",
        "colab": {}
      },
      "source": [
        "pd.set_option('display.max_columns', 500)\n",
        "pd.set_option('display.max_colwidth',200)"
      ],
      "execution_count": 0,
      "outputs": []
    },
    {
      "cell_type": "code",
      "metadata": {
        "id": "z7mb2E9pVRTa",
        "colab_type": "code",
        "colab": {}
      },
      "source": [
        "ln=dd.read_json('good.json',blocksize=100e6)"
      ],
      "execution_count": 0,
      "outputs": []
    },
    {
      "cell_type": "code",
      "metadata": {
        "id": "Np9-rMjkVRTc",
        "colab_type": "code",
        "colab": {},
        "outputId": "2c0588d8-4496-4fde-bb05-c435919ce681"
      },
      "source": [
        "ln.compute().shape"
      ],
      "execution_count": 0,
      "outputs": [
        {
          "output_type": "execute_result",
          "data": {
            "text/plain": [
              "(190, 23)"
            ]
          },
          "metadata": {
            "tags": []
          },
          "execution_count": 40
        }
      ]
    },
    {
      "cell_type": "code",
      "metadata": {
        "id": "4Fa5R1QgVRTe",
        "colab_type": "code",
        "colab": {}
      },
      "source": [
        "import sys"
      ],
      "execution_count": 0,
      "outputs": []
    },
    {
      "cell_type": "code",
      "metadata": {
        "id": "WtfRassZVRTg",
        "colab_type": "code",
        "colab": {}
      },
      "source": [
        "ln=dd.read_json('bad.json',blocksize=100e7)"
      ],
      "execution_count": 0,
      "outputs": []
    },
    {
      "cell_type": "code",
      "metadata": {
        "id": "XoKJKsk_VRTk",
        "colab_type": "code",
        "colab": {},
        "outputId": "51dee8bf-7663-49d0-d4bc-ef896cd8e462"
      },
      "source": [
        "try:\n",
        "    print( ln.compute().shape )\n",
        "except:\n",
        "    sys.exit('Failed to load')"
      ],
      "execution_count": 0,
      "outputs": [
        {
          "output_type": "error",
          "ename": "SystemExit",
          "evalue": "Failed to load",
          "traceback": [
            "An exception has occurred, use %tb to see the full traceback.\n",
            "\u001b[0;31mSystemExit\u001b[0m\u001b[0;31m:\u001b[0m Failed to load\n"
          ]
        }
      ]
    },
    {
      "cell_type": "code",
      "metadata": {
        "id": "xOMgA_55VRTm",
        "colab_type": "code",
        "colab": {}
      },
      "source": [
        "ln=dd.read_json('kkk.json',blocksize=100e6)"
      ],
      "execution_count": 0,
      "outputs": []
    },
    {
      "cell_type": "code",
      "metadata": {
        "id": "syr7pDTJVRTo",
        "colab_type": "code",
        "colab": {},
        "outputId": "fb0f49f5-cad9-40ae-d744-c917d0ef83d8"
      },
      "source": [
        "ln.compute().shape"
      ],
      "execution_count": 0,
      "outputs": [
        {
          "output_type": "execute_result",
          "data": {
            "text/plain": [
              "(1, 23)"
            ]
          },
          "metadata": {
            "tags": []
          },
          "execution_count": 50
        }
      ]
    },
    {
      "cell_type": "code",
      "metadata": {
        "id": "9-LL4hDXVRTq",
        "colab_type": "code",
        "colab": {}
      },
      "source": [
        ""
      ],
      "execution_count": 0,
      "outputs": []
    }
  ]
}