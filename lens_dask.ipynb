{
 "cells": [
  {
   "cell_type": "markdown",
   "metadata": {
    "colab_type": "text",
    "id": "view-in-github"
   },
   "source": [
    "<a href=\"https://colab.research.google.com/github/restrepo/lens_dask/blob/master/lens_dask.ipynb\" target=\"_parent\"><img src=\"https://colab.research.google.com/assets/colab-badge.svg\" alt=\"Open In Colab\"/></a>"
   ]
  },
  {
   "cell_type": "markdown",
   "metadata": {
    "colab_type": "text",
    "id": "VXdB2A-OVRSl"
   },
   "source": [
    "# Lens Dask"
   ]
  },
  {
   "cell_type": "markdown",
   "metadata": {
    "colab_type": "text",
    "id": "rrkDF1fqVRSn"
   },
   "source": [
    "## Convert lens json to dask json"
   ]
  },
  {
   "cell_type": "code",
   "execution_count": 1,
   "metadata": {
    "colab": {
     "base_uri": "https://localhost:8080/",
     "height": 55
    },
    "colab_type": "code",
    "id": "4w_qpgNLVZ-S",
    "outputId": "976ea106-c470-4023-8275-835073c52530"
   },
   "outputs": [
    {
     "name": "stdout",
     "output_type": "stream",
     "text": [
      "Drive already mounted at /content/drive; to attempt to forcibly remount, call drive.mount(\"/content/drive\", force_remount=True).\n"
     ]
    }
   ],
   "source": [
    "import os\n",
    "VERSION='NEW'\n",
    "if os.getcwd()=='/content':\n",
    "    from google.colab import drive\n",
    "    drive.mount('/content/drive')\n",
    "    os.chdir( \"drive/My Drive/Lens/LAT\" )"
   ]
  },
  {
   "cell_type": "code",
   "execution_count": null,
   "metadata": {
    "colab": {},
    "colab_type": "code",
    "id": "qKFO1ATfVRSn"
   },
   "outputs": [],
   "source": [
    "import pandas as pd"
   ]
  },
  {
   "cell_type": "code",
   "execution_count": null,
   "metadata": {
    "colab": {},
    "colab_type": "code",
    "id": "g52hctPDVRSq"
   },
   "outputs": [],
   "source": [
    "import os\n",
    "import re"
   ]
  },
  {
   "cell_type": "code",
   "execution_count": null,
   "metadata": {
    "colab": {},
    "colab_type": "code",
    "id": "uQuM5qcuVRSr"
   },
   "outputs": [],
   "source": [
    "jz=os.listdir('data')"
   ]
  },
  {
   "cell_type": "code",
   "execution_count": null,
   "metadata": {
    "colab": {},
    "colab_type": "code",
    "id": "yAKJwe1CVRSt"
   },
   "outputs": [],
   "source": [
    "jz=[j for j in jz if j.find('json.gz')>-1]"
   ]
  },
  {
   "cell_type": "code",
   "execution_count": 12,
   "metadata": {
    "colab": {
     "base_uri": "https://localhost:8080/",
     "height": 35
    },
    "colab_type": "code",
    "id": "T73Y68z1VRSv",
    "outputId": "70013afa-2bd8-4478-b540-65b37aef403b"
   },
   "outputs": [
    {
     "data": {
      "text/plain": [
       "[]"
      ]
     },
     "execution_count": 12,
     "metadata": {
      "tags": []
     },
     "output_type": "execute_result"
    }
   ],
   "source": [
    "jz"
   ]
  },
  {
   "cell_type": "code",
   "execution_count": null,
   "metadata": {
    "colab": {},
    "colab_type": "code",
    "id": "ZztHv8A8VRSy"
   },
   "outputs": [],
   "source": [
    "for j in jz:\n",
    "    ln=pd.read_json('data/'+j,compression='gzip')\n",
    "    ln.to_json('data/'+j.split('.gz')[0],lines=True,orient='records')"
   ]
  },
  {
   "cell_type": "markdown",
   "metadata": {
    "colab_type": "text",
    "id": "BDIRsoYFVRS0"
   },
   "source": [
    "See https://towardsdatascience.com/speeding-up-your-algorithms-part-4-dask-7c6ed79994ef"
   ]
  },
  {
   "cell_type": "markdown",
   "metadata": {
    "colab_type": "text",
    "id": "_ChWdwd5VRS0"
   },
   "source": [
    "## Load as dask dataframes "
   ]
  },
  {
   "cell_type": "markdown",
   "metadata": {
    "colab_type": "text",
    "id": "WS0xpsWEVRS1"
   },
   "source": [
    "An error appears when trying to load a json file into a Dask DataFrame with the `blocksize` option with some specific number of records, in this example: 191 records. The error seem to not depend on some specific record, e.g the first one or the last one, or any subset as displayed below:\n",
    "\n",
    "The solution is given here: https://stackoverflow.com/a/55027036/2268280\n",
    "\n",
    "> You might consider increasing the size of the sample that Dask reads when determining metadata like column names.\n",
    "```python\n",
    "df = dd.read_json(..., sample=2**26)"
   ]
  },
  {
   "cell_type": "code",
   "execution_count": 1,
   "metadata": {
    "colab": {},
    "colab_type": "code",
    "id": "EY5K0UM4VRS1"
   },
   "outputs": [],
   "source": [
    "import dask.dataframe as dd\n",
    "import os\n",
    "import re"
   ]
  },
  {
   "cell_type": "code",
   "execution_count": 2,
   "metadata": {
    "colab": {
     "base_uri": "https://localhost:8080/",
     "height": 35
    },
    "colab_type": "code",
    "id": "4sLkQhZIXT0c",
    "outputId": "96cce2de-6821-4ad8-816d-2a7ae0784be4"
   },
   "outputs": [
    {
     "data": {
      "text/plain": [
       "'/home/restrepo/prog/medicion/lens_dask'"
      ]
     },
     "execution_count": 2,
     "metadata": {},
     "output_type": "execute_result"
    }
   ],
   "source": [
    "os.getcwd()"
   ]
  },
  {
   "cell_type": "code",
   "execution_count": 3,
   "metadata": {
    "colab": {},
    "colab_type": "code",
    "id": "xG0Q8N2QW8GN"
   },
   "outputs": [],
   "source": [
    "# must end with \"/\"\n",
    "data_dir='data/'\n",
    "if re.search('^/content',os.getcwd() ):\n",
    "    data_dir='lines_True_orient_records/'"
   ]
  },
  {
   "cell_type": "code",
   "execution_count": 4,
   "metadata": {
    "colab": {},
    "colab_type": "code",
    "id": "Y4VpoPoQVRS3"
   },
   "outputs": [],
   "source": [
    "jz=os.listdir(data_dir)"
   ]
  },
  {
   "cell_type": "code",
   "execution_count": 5,
   "metadata": {
    "colab": {},
    "colab_type": "code",
    "id": "gowrZI4vVRS5"
   },
   "outputs": [],
   "source": [
    "jz=sorted( [j for j in jz if re.search('^lens_lat_.*json$',j)] )"
   ]
  },
  {
   "cell_type": "code",
   "execution_count": 6,
   "metadata": {
    "colab": {},
    "colab_type": "code",
    "id": "kOgDc3J9VRS7"
   },
   "outputs": [],
   "source": [
    "good=[]\n",
    "EXTRACT_GOOD=False\n",
    "if EXTRACT_GOOD:\n",
    "    ln=dd.read_json(data_dir+jz[0],blocksize=50e6,sample=2**26)\n",
    "    for j in range(len(jz)):\n",
    "        tmp=dd.read_json(data_dir+jz[j],blocksize=50e6,sample=2**26)\n",
    "        try:\n",
    "            kk=tmp.compute().shape[0]\n",
    "            good.append(j)\n",
    "            ln=ln.append( dd.read_json(data_dir+jz[j],blocksize=50e6,sample=2**26)  )\n",
    "        except:\n",
    "            pass"
   ]
  },
  {
   "cell_type": "markdown",
   "metadata": {
    "colab_type": "text",
    "id": "_K7b2HUZVRS9"
   },
   "source": [
    "test dask tasks with good dataframes"
   ]
  },
  {
   "cell_type": "code",
   "execution_count": 7,
   "metadata": {
    "colab": {},
    "colab_type": "code",
    "id": "4U8ixQrdVRS-"
   },
   "outputs": [],
   "source": [
    "if good:\n",
    "    print(good)"
   ]
  },
  {
   "cell_type": "code",
   "execution_count": 8,
   "metadata": {
    "colab": {},
    "colab_type": "code",
    "id": "Hcpw7-TaVRS_"
   },
   "outputs": [],
   "source": [
    "good=range(47)[::-1]#[2, 3, 4, 5, 9, 10, 11, 12, 14, 15, 17, 20, 23, 26, 37, 42, 43, 45, 46, 47]"
   ]
  },
  {
   "cell_type": "code",
   "execution_count": 9,
   "metadata": {
    "colab": {},
    "colab_type": "code",
    "id": "sf2JUhAYVRTD"
   },
   "outputs": [],
   "source": [
    "ln=dd.read_json(data_dir+jz[good[0]],blocksize=50e6,sample=2**26)\n",
    "\n",
    "for i in good[1:6]:\n",
    "    ln=ln.append( dd.read_json(data_dir+jz[good[i]],blocksize=50e6,sample=2**26)  )"
   ]
  },
  {
   "cell_type": "code",
   "execution_count": 10,
   "metadata": {
    "colab": {
     "base_uri": "https://localhost:8080/",
     "height": 35
    },
    "colab_type": "code",
    "id": "t4f62qYpVRTE",
    "outputId": "a45b85a7-7306-410b-9a51-8b488e4b207b"
   },
   "outputs": [
    {
     "data": {
      "text/plain": [
       "(243034,)"
      ]
     },
     "execution_count": 10,
     "metadata": {},
     "output_type": "execute_result"
    }
   ],
   "source": [
    "ln.journal.compute().shape"
   ]
  },
  {
   "cell_type": "markdown",
   "metadata": {},
   "source": [
    "### Does not improve upon pandas!"
   ]
  },
  {
   "cell_type": "code",
   "execution_count": 11,
   "metadata": {
    "colab": {},
    "colab_type": "code",
    "id": "sf2JUhAYVRTD"
   },
   "outputs": [
    {
     "data": {
      "text/plain": [
       "(243034,)"
      ]
     },
     "execution_count": 11,
     "metadata": {},
     "output_type": "execute_result"
    }
   ],
   "source": [
    "import pandas as pd\n",
    "ln=pd.read_json(data_dir+jz[good[0]],lines=True,orient='records')\n",
    "\n",
    "for i in good[1:6]:\n",
    "    ln=ln.append( pd.read_json(data_dir+jz[good[i]],lines=True,orient='records')  )\n",
    "ln.journal.shape    "
   ]
  },
  {
   "cell_type": "markdown",
   "metadata": {
    "colab_type": "text",
    "id": "ww-jyKsNVRTG"
   },
   "source": [
    "for j in jz[1:]:\n",
    "    ln=ln.append( dd.read_json('data/'+j ,blocksize=50e6) )"
   ]
  },
  {
   "cell_type": "markdown",
   "metadata": {
    "colab_type": "text",
    "id": "_AHq7IP0VRTH"
   },
   "source": [
    "## Find the dask bug"
   ]
  },
  {
   "cell_type": "code",
   "execution_count": null,
   "metadata": {
    "colab": {},
    "colab_type": "code",
    "id": "KhsElXzOVRTH"
   },
   "outputs": [],
   "source": [
    "kk=ln[ln.authors.astype(str).str.contains('University of Antioquia')].reset_index(drop=True)"
   ]
  },
  {
   "cell_type": "code",
   "execution_count": null,
   "metadata": {
    "colab": {},
    "colab_type": "code",
    "id": "OtzFfX0aVRTI"
   },
   "outputs": [],
   "source": [
    "kk.compute()"
   ]
  },
  {
   "cell_type": "markdown",
   "metadata": {
    "colab_type": "text",
    "id": "Mv-UldimVRTL"
   },
   "source": [
    "Bad"
   ]
  },
  {
   "cell_type": "code",
   "execution_count": null,
   "metadata": {
    "colab": {},
    "colab_type": "code",
    "id": "lKsIOD66VRTM"
   },
   "outputs": [],
   "source": [
    "import pandas as pd"
   ]
  },
  {
   "cell_type": "code",
   "execution_count": null,
   "metadata": {
    "colab": {},
    "colab_type": "code",
    "id": "5ZwgKXVrVRTP",
    "outputId": "fe30dcca-2f50-4ff0-cd8b-40e1afe44408"
   },
   "outputs": [
    {
     "name": "stdout",
     "output_type": "stream",
     "text": [
      "Overwriting drive.cfg\n"
     ]
    }
   ],
   "source": [
    "%%writefile drive.cfg\n",
    "[FILES]\n",
    "UDEA_authors_with_WOS_info.json       =1o1eVT4JD0FMMICq_oxrTJOzWh47veBMw\n",
    "WOS_SCI_SCP_PTJ_CTR.json.gz           =19E1C1kRk4I0V3uXojqko8-NEicWaPp1j\n",
    "lens_lat_2019-04-01_2019-06-30.json.gz=11IM--JWIrFq6s2Bn-lNKtTAWm_XANAGx\n",
    "lens_lat_2018-12-01_2019-03-31.json.gz=11D_TH-Jp95qcjf_5oLMiyZXto98eXFZv\n",
    "lens_lat_2018-09-01_2018-11-30.json.gz=11CjOQb_qaz_Igg_BouNP1bayKvjMmfLM\n",
    "lens_lat_2018-06-01_2018-08-31.json.gz=1191l19-rBlXWyV1FpkeGS60aMGGEhlY1\n",
    "lens_lat_2018-02-01_2018-05-31.json.gz=117XflAqxJOtSqbNRuAD7qvdXKcq9sWV9\n",
    "lens_lat_2017-12-01_2018-01-31.json.gz=11-gmcyfHjtZOhPSEzQGkgDBZO8NmWoUE\n",
    "lens_lat_2017-06-01_2017-08-31.json.gz=11-JllgMrMw3_3zBH1rgGwxai97tjiobt\n",
    "lens_lat_2017-02-01_2017-05-31.json.gz=10nQKCGer00evOusselh272ArLFEkdCDT\n",
    "lens_lat_2016-12-01_2017-01-31.json.gz=10m_Fo6aDbjhN5cXpFHj73FXSghpn4OQ3\n",
    "lens_lat_2016-09-01_2016-11-30.json.gz=10kbscWWxVDJbeuotDUU7e9IHRAiS59lO\n",
    "lens_lat_2016-06-01_2016-08-31.json.gz=10hOv4cFEdE-8oC3310CTp0A0_SN-H5Qt\n",
    "lens_lat_2016-03-01_2016-05-31.json.gz=10gIrPWa5OBMxjm_rLQ_jQ2Gu_M6-zGgD\n",
    "lens_lat_2016-01-01_2016-02-29.json.gz=10dSIx1s-im-3ZYlmXgBCbhdUmC8BOzid\n",
    "lens_lat_2015-11-01_2015-12-31.json.gz=10cWT0BDn2IlD9zBRflTxIOTdIcqZS-B4\n",
    "lens_lat_2015-07-01_2015-10-31.json.gz=10ahPuzX2y70vtXqO9xLHkkeg7F5EOHnM\n",
    "lens_lat_2015-03-01_2015-06-30.json.gz=10VtXIUJ3XOE7VyA9QCLL2H3yGP0DnaFw\n",
    "lens_lat_2015-01-01_2015-02-28.json.gz=10TZfHu0fTlWLfopa-sq66Suzh35_2mkp\n",
    "lens_lat_2014-11-01_2014-12-31.json.gz=10T5eHtSB9Gbmz5Ihtbj-xry8KxkVI3i5\n",
    "lens_lat_2014-07-01_2014-10-31.json.gz=10O5EpnCR5Pn0WV-J8rIG46xP34bwUYyg\n",
    "lens_lat_2014-03-01_2014-06-30.json.gz=10Di2UcHTlfsgYPfpzKHTgWgXQibSznTg\n",
    "lens_lat_2014-01-01_2014-02-28.json.gz=1092RZhn-0oXve98bAecVULaHJmg9_2q5\n",
    "lens_lat_2013-09-01_2013-12-31.json.gz=107cplrrWFZr__ysGQvmIIn2GoA43QEi7\n",
    "lens_lat_2013-04-01_2013-08-31.json.gz=105B136Ysg9heeoOXpAwH9nSq8jsXZE4a\n",
    "lens_lat_2012-09-01_2012-12-31.json.gz=104vZDKbZj1qXbnj-kwfN44y3OtyW-RFC\n",
    "lens_lat_2012-04-01_2012-08-31.json.gz=101yBZSsTbiTo1vsma9TSU5XP8ugIFJip\n",
    "lens_lat_2012-01-01_2012-03-31.json.gz=100Syzm4xJ9MC1SX2poTRXJjlbDyOoXSU\n",
    "lens_lat_2011-09-01_2011-12-31.json.gz=10-lPswtacMlE98LN97eB4AbFJpWfpn63\n",
    "lens_lat_2011-03-01_2011-08-31.json.gz=10-Tv-ULF0cgZoYyEMWoKKU4SoybYF5vl\n",
    "lens_lat_2010-12-01_2011-02-28.json.gz=1-z7OftzGVh1tJyxK0M7d8icaJ4ERXuN1\n",
    "lens_lat_2010-05-30_2010-11-30.json.gz=1-vIwF0yf4QlLbuhUapGgC-mIAe_uKmiW\n",
    "lens_lat_2010-01-01_2010-04-30.json.gz=1-vFxXE2PZ4E1OJFr0EdE9H00IciUqq5I\n",
    "lens_lat_2009-06-01_2009-12-31.json.gz=1-qgY9IVh2rzHFVxuD_YjQ0FHeDFcZbJo\n",
    "lens_lat_2009-01-01_2009-05-31.json.gz=1-gl1tiVLNjiKQvZRqp7JVVzTZhH8oSvL\n",
    "lens_lat_2008-06-01_2008-12-31.json.gz=1-dd6RoLePalsrxcVP9VGW1jwcmxhKJ1J\n",
    "lens_lat_2008-01-01_2008-05-31.json.gz=1-ayRWDL8qkmZ2-MGDL7N-PDgkTNrfFih\n",
    "lens_lat_2007-03-31_2007-12-31.json.gz=1-WMrYIl5GwP84UIacFD5z4tnyGyKDpAI\n",
    "lens_lat_2006-08-01_2007-02-28.json.gz=1-WLO9AqMvNhrJ0WpkwNk8yXtEasNHdEj\n",
    "lens_lat_2005-12-01_2006-07-31.json.gz=1-Vgr695qvfp7Kp8ED_DrQduPAJKuOxR_\n",
    "lens_lat_2005-01-01_2005-11-30.json.gz=1-PLDU4UJziErzwaUHrrN3qF4QBymlP89\n",
    "lens_lat_2004-01-01_2004-12-31.json.gz=1-MaQqD_OTNwIDWpgexqzwL2UGwHoOqfa\n",
    "lens_lat_2003-01-01_2003-12-31.json.gz=1-G9SSaBb4FZeyvrZ7udemctcIrKdhyVm\n",
    "lens_lat_2002-01-01_2002-12-32.json.gz=1-DGJTJzzgi4wyJwZkw0SHKOJ9LScD-Xo\n",
    "lens_lat_2000-03-31_2001-12-31.json.gz=1-8cKkHJLofb8RpRdillKnVNDShrUqu-l\n",
    "lens_lat_1998-05-31_2000-03-31.json.gz=1-8UrsABcPc2q2mLUhQtlq6RqThvGWzeV\n",
    "lens_lat_1995-12-01_1998-05-31.json.gz=1-3UxBNSwM8D-ZKDpAN0Rya3Zdzjpxg3j\n",
    "lens_lat_1991-02-01_1995-11-30.json.gz=180CBTphUQVwFIrfU3eW4kqd1F9q8R5XU\n",
    "lens_lat_1984-01-01_1991-01-31.json.gz=11QhtKYIR8hXlEBBfdIVcvxPyC5tQrzAp\n",
    "lens_lat_1900-01-01_1983-12-31.json.gz=11PnX2Z71bCJahtv-5uOaelAorkQMGe7l"
   ]
  },
  {
   "cell_type": "code",
   "execution_count": null,
   "metadata": {
    "colab": {},
    "colab_type": "code",
    "id": "SsoWiJHxVRTR"
   },
   "outputs": [],
   "source": [
    "import wosplus as wp"
   ]
  },
  {
   "cell_type": "code",
   "execution_count": null,
   "metadata": {
    "colab": {},
    "colab_type": "code",
    "id": "jnBJA7g-VRTT"
   },
   "outputs": [],
   "source": [
    "df=wp.wosplus('drive.cfg')"
   ]
  },
  {
   "cell_type": "code",
   "execution_count": null,
   "metadata": {
    "colab": {},
    "colab_type": "code",
    "id": "K1uAFy8tVRTV"
   },
   "outputs": [],
   "source": [
    "j=44\n",
    "ln=df.read_drive_json(jz[j]+'.gz',compression='gzip')#,encoding='latin1')"
   ]
  },
  {
   "cell_type": "code",
   "execution_count": null,
   "metadata": {
    "colab": {},
    "colab_type": "code",
    "id": "ces5ogXuVRTY"
   },
   "outputs": [],
   "source": [
    "ln.to_json('kk.json',lines=True,orient='records')"
   ]
  },
  {
   "cell_type": "code",
   "execution_count": null,
   "metadata": {
    "colab": {},
    "colab_type": "code",
    "id": "uIj5rrDuVRTZ"
   },
   "outputs": [],
   "source": [
    "pd.set_option('display.max_columns', 500)\n",
    "pd.set_option('display.max_colwidth',200)"
   ]
  },
  {
   "cell_type": "code",
   "execution_count": null,
   "metadata": {
    "colab": {},
    "colab_type": "code",
    "id": "z7mb2E9pVRTa"
   },
   "outputs": [],
   "source": [
    "ln=dd.read_json('good.json',blocksize=100e6)"
   ]
  },
  {
   "cell_type": "code",
   "execution_count": null,
   "metadata": {
    "colab": {},
    "colab_type": "code",
    "id": "Np9-rMjkVRTc",
    "outputId": "2c0588d8-4496-4fde-bb05-c435919ce681"
   },
   "outputs": [
    {
     "data": {
      "text/plain": [
       "(190, 23)"
      ]
     },
     "execution_count": 40,
     "metadata": {
      "tags": []
     },
     "output_type": "execute_result"
    }
   ],
   "source": [
    "ln.compute().shape"
   ]
  },
  {
   "cell_type": "code",
   "execution_count": null,
   "metadata": {
    "colab": {},
    "colab_type": "code",
    "id": "4Fa5R1QgVRTe"
   },
   "outputs": [],
   "source": [
    "import sys"
   ]
  },
  {
   "cell_type": "code",
   "execution_count": null,
   "metadata": {
    "colab": {},
    "colab_type": "code",
    "id": "WtfRassZVRTg"
   },
   "outputs": [],
   "source": [
    "ln=dd.read_json('bad.json',blocksize=100e7)"
   ]
  },
  {
   "cell_type": "code",
   "execution_count": null,
   "metadata": {
    "colab": {},
    "colab_type": "code",
    "id": "XoKJKsk_VRTk",
    "outputId": "51dee8bf-7663-49d0-d4bc-ef896cd8e462"
   },
   "outputs": [
    {
     "ename": "SystemExit",
     "evalue": "Failed to load",
     "output_type": "error",
     "traceback": [
      "An exception has occurred, use %tb to see the full traceback.\n",
      "\u001b[0;31mSystemExit\u001b[0m\u001b[0;31m:\u001b[0m Failed to load\n"
     ]
    }
   ],
   "source": [
    "try:\n",
    "    print( ln.compute().shape )\n",
    "except:\n",
    "    sys.exit('Failed to load')"
   ]
  },
  {
   "cell_type": "code",
   "execution_count": null,
   "metadata": {
    "colab": {},
    "colab_type": "code",
    "id": "xOMgA_55VRTm"
   },
   "outputs": [],
   "source": [
    "ln=dd.read_json('kkk.json',blocksize=100e6)"
   ]
  },
  {
   "cell_type": "code",
   "execution_count": null,
   "metadata": {
    "colab": {},
    "colab_type": "code",
    "id": "syr7pDTJVRTo",
    "outputId": "fb0f49f5-cad9-40ae-d744-c917d0ef83d8"
   },
   "outputs": [
    {
     "data": {
      "text/plain": [
       "(1, 23)"
      ]
     },
     "execution_count": 50,
     "metadata": {
      "tags": []
     },
     "output_type": "execute_result"
    }
   ],
   "source": [
    "ln.compute().shape"
   ]
  },
  {
   "cell_type": "code",
   "execution_count": null,
   "metadata": {
    "colab": {},
    "colab_type": "code",
    "id": "9-LL4hDXVRTq"
   },
   "outputs": [],
   "source": []
  }
 ],
 "metadata": {
  "colab": {
   "include_colab_link": true,
   "name": "lens_dask.ipynb",
   "provenance": [],
   "toc_visible": true,
   "version": "0.3.2"
  },
  "kernelspec": {
   "display_name": "Python 3",
   "language": "python",
   "name": "python3"
  },
  "language_info": {
   "codemirror_mode": {
    "name": "ipython",
    "version": 3
   },
   "file_extension": ".py",
   "mimetype": "text/x-python",
   "name": "python",
   "nbconvert_exporter": "python",
   "pygments_lexer": "ipython3",
   "version": "3.5.3"
  }
 },
 "nbformat": 4,
 "nbformat_minor": 2
}
